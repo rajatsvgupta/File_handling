{
 "cells": [
  {
   "cell_type": "code",
   "execution_count": 40,
   "metadata": {},
   "outputs": [],
   "source": [
    "f=open(\"practice.txt\",\"r+\")"
   ]
  },
  {
   "cell_type": "code",
   "execution_count": 41,
   "metadata": {},
   "outputs": [
    {
     "data": {
      "text/plain": [
       "'r+'"
      ]
     },
     "execution_count": 41,
     "metadata": {},
     "output_type": "execute_result"
    }
   ],
   "source": [
    "f.mode"
   ]
  },
  {
   "cell_type": "code",
   "execution_count": 3,
   "metadata": {},
   "outputs": [
    {
     "data": {
      "text/plain": [
       "'practice.txt'"
      ]
     },
     "execution_count": 3,
     "metadata": {},
     "output_type": "execute_result"
    }
   ],
   "source": [
    "f.name"
   ]
  },
  {
   "cell_type": "code",
   "execution_count": 4,
   "metadata": {},
   "outputs": [],
   "source": [
    "f.close()"
   ]
  },
  {
   "cell_type": "code",
   "execution_count": 5,
   "metadata": {},
   "outputs": [
    {
     "data": {
      "text/plain": [
       "'practice.txt'"
      ]
     },
     "execution_count": 5,
     "metadata": {},
     "output_type": "execute_result"
    }
   ],
   "source": [
    "f.name"
   ]
  },
  {
   "cell_type": "code",
   "execution_count": 6,
   "metadata": {},
   "outputs": [
    {
     "data": {
      "text/plain": [
       "'r'"
      ]
     },
     "execution_count": 6,
     "metadata": {},
     "output_type": "execute_result"
    }
   ],
   "source": [
    "f.mode"
   ]
  },
  {
   "cell_type": "code",
   "execution_count": 7,
   "metadata": {},
   "outputs": [
    {
     "name": "stdout",
     "output_type": "stream",
     "text": [
      "The Gupta Empire was an ancient Indian empire existing from the mid-to-late 3rd century CE to 543 CE. At its zenith, from approximately 319 to \n",
      "467 CE, it covered much of the Indian subcontinent.[4] This period is considered as the Golden Age of India by some historians.[5][note 1] The\n",
      "ruling dynasty of the empire was founded by the king Sri Gupta; the most notable rulers of the dynasty were Chandragupta I, Samudragupta, and\n",
      "Chandragupta II alias Vikramaditya. The 5th-century CE Sanskrit poet Kalidasa credits the Guptas with having conquered about twenty-one\n",
      "kingdoms, both in and outside India, including the kingdoms of Parasikas, the Hunas, the Kambojas, tribes located in the west and east Oxus\n",
      "valleys, the Kinnaras, Kiratas, and others.[7][non-primary source needed]\n",
      "\n",
      "The high points of this period are the great cultural developments which took place primarily during the reigns of Samudragupta, Chandragupta \n",
      "II and Kumaragupta I. Many of the literary sources, such as Mahabharata and Ramayana, were canonised during this period.[8] The Gupta period\n",
      "produced scholars such as Kalidasa,[9] Aryabhata, Varahamihira, and Vatsyayana who made great advancements in many academic fields.[10][11]\n",
      "[12] Science and political administration reached new heights during the Gupta era.[11] The period gave rise to achievements in architecture,\n",
      "sculpture, and painting that \"set standards of form and taste [that] determined the whole subsequent course of art, not only in India but far\n",
      "beyond her borders\".[13] Strong trade ties also made the region an important cultural centre and established the region as a base that would \n",
      "influence nearby kingdoms and regions in South Asia and Southeast Asia.[14][unreliable source?] The Puranas, earlier long poems on a variety \n",
      "of subjects, are also thought to have been committed to written texts around this period.[13][3] Brahmins flourished in the Gupta empire but\n",
      "the Guptas tolerated people of other faiths as well. Vedic sacrifices reduced in the Gupta period[15]\n"
     ]
    }
   ],
   "source": [
    "with open(\"practice.txt\",mode=\"r\") as f:\n",
    "    c=f.read()\n",
    "    print(c)"
   ]
  },
  {
   "cell_type": "code",
   "execution_count": 8,
   "metadata": {},
   "outputs": [
    {
     "data": {
      "text/plain": [
       "'The Gupta Empire was an ancient Indian empire existing from the mid-to-late 3rd century CE to 543 CE. At its zenith, from approximately 319 to \\n467 CE, it covered much of the Indian subcontinent.[4] This period is considered as the Golden Age of India by some historians.[5][note 1] The\\nruling dynasty of the empire was founded by the king Sri Gupta; the most notable rulers of the dynasty were Chandragupta I, Samudragupta, and\\nChandragupta II alias Vikramaditya. The 5th-century CE Sanskrit poet Kalidasa credits the Guptas with having conquered about twenty-one\\nkingdoms, both in and outside India, including the kingdoms of Parasikas, the Hunas, the Kambojas, tribes located in the west and east Oxus\\nvalleys, the Kinnaras, Kiratas, and others.[7][non-primary source needed]\\n\\nThe high points of this period are the great cultural developments which took place primarily during the reigns of Samudragupta, Chandragupta \\nII and Kumaragupta I. Many of the literary sources, such as Mahabharata and Ramayana, were canonised during this period.[8] The Gupta period\\nproduced scholars such as Kalidasa,[9] Aryabhata, Varahamihira, and Vatsyayana who made great advancements in many academic fields.[10][11]\\n[12] Science and political administration reached new heights during the Gupta era.[11] The period gave rise to achievements in architecture,\\nsculpture, and painting that \"set standards of form and taste [that] determined the whole subsequent course of art, not only in India but far\\nbeyond her borders\".[13] Strong trade ties also made the region an important cultural centre and established the region as a base that would \\ninfluence nearby kingdoms and regions in South Asia and Southeast Asia.[14][unreliable source?] The Puranas, earlier long poems on a variety \\nof subjects, are also thought to have been committed to written texts around this period.[13][3] Brahmins flourished in the Gupta empire but\\nthe Guptas tolerated people of other faiths as well. Vedic sacrifices reduced in the Gupta period[15]'"
      ]
     },
     "execution_count": 8,
     "metadata": {},
     "output_type": "execute_result"
    }
   ],
   "source": [
    "c"
   ]
  },
  {
   "cell_type": "code",
   "execution_count": 9,
   "metadata": {},
   "outputs": [],
   "source": [
    "f=open(\"practice.txt\",mode=\"r\")"
   ]
  },
  {
   "cell_type": "code",
   "execution_count": 10,
   "metadata": {},
   "outputs": [],
   "source": [
    "c=f.read()"
   ]
  },
  {
   "cell_type": "code",
   "execution_count": 11,
   "metadata": {},
   "outputs": [
    {
     "data": {
      "text/plain": [
       "'The Gupta Empire was an ancient Indian empire existing from the mid-to-late 3rd century CE to 543 CE. At its zenith, from approximately 319 to \\n467 CE, it covered much of the Indian subcontinent.[4] This period is considered as the Golden Age of India by some historians.[5][note 1] The\\nruling dynasty of the empire was founded by the king Sri Gupta; the most notable rulers of the dynasty were Chandragupta I, Samudragupta, and\\nChandragupta II alias Vikramaditya. The 5th-century CE Sanskrit poet Kalidasa credits the Guptas with having conquered about twenty-one\\nkingdoms, both in and outside India, including the kingdoms of Parasikas, the Hunas, the Kambojas, tribes located in the west and east Oxus\\nvalleys, the Kinnaras, Kiratas, and others.[7][non-primary source needed]\\n\\nThe high points of this period are the great cultural developments which took place primarily during the reigns of Samudragupta, Chandragupta \\nII and Kumaragupta I. Many of the literary sources, such as Mahabharata and Ramayana, were canonised during this period.[8] The Gupta period\\nproduced scholars such as Kalidasa,[9] Aryabhata, Varahamihira, and Vatsyayana who made great advancements in many academic fields.[10][11]\\n[12] Science and political administration reached new heights during the Gupta era.[11] The period gave rise to achievements in architecture,\\nsculpture, and painting that \"set standards of form and taste [that] determined the whole subsequent course of art, not only in India but far\\nbeyond her borders\".[13] Strong trade ties also made the region an important cultural centre and established the region as a base that would \\ninfluence nearby kingdoms and regions in South Asia and Southeast Asia.[14][unreliable source?] The Puranas, earlier long poems on a variety \\nof subjects, are also thought to have been committed to written texts around this period.[13][3] Brahmins flourished in the Gupta empire but\\nthe Guptas tolerated people of other faiths as well. Vedic sacrifices reduced in the Gupta period[15]'"
      ]
     },
     "execution_count": 11,
     "metadata": {},
     "output_type": "execute_result"
    }
   ],
   "source": [
    "c"
   ]
  },
  {
   "cell_type": "code",
   "execution_count": 12,
   "metadata": {},
   "outputs": [
    {
     "name": "stdout",
     "output_type": "stream",
     "text": [
      "The Gupta Empire was an ancient Indian empire existing from the mid-to-late 3rd century CE to 543 CE. At its zenith, from approximately 319 to \n",
      "467 CE, it covered much of the Indian subcontinent.[4] This period is considered as the Golden Age of India by some historians.[5][note 1] The\n",
      "ruling dynasty of the empire was founded by the king Sri Gupta; the most notable rulers of the dynasty were Chandragupta I, Samudragupta, and\n",
      "Chandragupta II alias Vikramaditya. The 5th-century CE Sanskrit poet Kalidasa credits the Guptas with having conquered about twenty-one\n",
      "kingdoms, both in and outside India, including the kingdoms of Parasikas, the Hunas, the Kambojas, tribes located in the west and east Oxus\n",
      "valleys, the Kinnaras, Kiratas, and others.[7][non-primary source needed]\n",
      "\n",
      "The high points of this period are the great cultural developments which took place primarily during the reigns of Samudragupta, Chandragupta \n",
      "II and Kumaragupta I. Many of the literary sources, such as Mahabharata and Ramayana, were canonised during this period.[8] The Gupta period\n",
      "produced scholars such as Kalidasa,[9] Aryabhata, Varahamihira, and Vatsyayana who made great advancements in many academic fields.[10][11]\n",
      "[12] Science and political administration reached new heights during the Gupta era.[11] The period gave rise to achievements in architecture,\n",
      "sculpture, and painting that \"set standards of form and taste [that] determined the whole subsequent course of art, not only in India but far\n",
      "beyond her borders\".[13] Strong trade ties also made the region an important cultural centre and established the region as a base that would \n",
      "influence nearby kingdoms and regions in South Asia and Southeast Asia.[14][unreliable source?] The Puranas, earlier long poems on a variety \n",
      "of subjects, are also thought to have been committed to written texts around this period.[13][3] Brahmins flourished in the Gupta empire but\n",
      "the Guptas tolerated people of other faiths as well. Vedic sacrifices reduced in the Gupta period[15]\n"
     ]
    }
   ],
   "source": [
    "print(c)"
   ]
  },
  {
   "cell_type": "code",
   "execution_count": 13,
   "metadata": {},
   "outputs": [
    {
     "name": "stdout",
     "output_type": "stream",
     "text": [
      "['The Gupta Empire was an ancient Indian empire existing from the mid-to-late 3rd century CE to 543 CE. At its zenith, from approximately 319 to \\n', '467 CE, it covered much of the Indian subcontinent.[4] This period is considered as the Golden Age of India by some historians.[5][note 1] The\\n', 'ruling dynasty of the empire was founded by the king Sri Gupta; the most notable rulers of the dynasty were Chandragupta I, Samudragupta, and\\n', 'Chandragupta II alias Vikramaditya. The 5th-century CE Sanskrit poet Kalidasa credits the Guptas with having conquered about twenty-one\\n', 'kingdoms, both in and outside India, including the kingdoms of Parasikas, the Hunas, the Kambojas, tribes located in the west and east Oxus\\n', 'valleys, the Kinnaras, Kiratas, and others.[7][non-primary source needed]\\n', '\\n', 'The high points of this period are the great cultural developments which took place primarily during the reigns of Samudragupta, Chandragupta \\n', 'II and Kumaragupta I. Many of the literary sources, such as Mahabharata and Ramayana, were canonised during this period.[8] The Gupta period\\n', 'produced scholars such as Kalidasa,[9] Aryabhata, Varahamihira, and Vatsyayana who made great advancements in many academic fields.[10][11]\\n', '[12] Science and political administration reached new heights during the Gupta era.[11] The period gave rise to achievements in architecture,\\n', 'sculpture, and painting that \"set standards of form and taste [that] determined the whole subsequent course of art, not only in India but far\\n', 'beyond her borders\".[13] Strong trade ties also made the region an important cultural centre and established the region as a base that would \\n', 'influence nearby kingdoms and regions in South Asia and Southeast Asia.[14][unreliable source?] The Puranas, earlier long poems on a variety \\n', 'of subjects, are also thought to have been committed to written texts around this period.[13][3] Brahmins flourished in the Gupta empire but\\n', 'the Guptas tolerated people of other faiths as well. Vedic sacrifices reduced in the Gupta period[15]']\n"
     ]
    }
   ],
   "source": [
    "with open(\"practice.txt\",mode=\"r\") as f:\n",
    "    c=f.readlines()\n",
    "    print(c)"
   ]
  },
  {
   "cell_type": "code",
   "execution_count": 14,
   "metadata": {},
   "outputs": [
    {
     "name": "stdout",
     "output_type": "stream",
     "text": [
      "The Gupta Empire was an ancient Indian empire existing from the mid-to-late 3rd century CE to 543 CE. At its zenith, from approximately 319 to \n",
      "\n",
      "467 CE, it covered much of the Indian subcontinent.[4] This period is considered as the Golden Age of India by some historians.[5][note 1] The\n",
      "\n"
     ]
    }
   ],
   "source": [
    "with open(\"practice.txt\",\"r\") as f:\n",
    "    first_line=f.readline()\n",
    "    sec_line=f.readline()\n",
    "    print(first_line)\n",
    "    print(sec_line)"
   ]
  },
  {
   "cell_type": "code",
   "execution_count": 15,
   "metadata": {},
   "outputs": [
    {
     "name": "stdout",
     "output_type": "stream",
     "text": [
      "The Gupta Empire was an ancient Indian empire existing from the mid-to-late 3rd century CE to 543 CE. At its zenith, from approximately 319 to \n",
      "467 CE, it covered much of the Indian subcontinent.[4] This period is considered as the Golden Age of India by some historians.[5][note 1] The\n"
     ]
    }
   ],
   "source": [
    "with open(\"practice.txt\",\"r\") as f:\n",
    "    first_line=f.readline()\n",
    "    sec_line=f.readline()\n",
    "    print(first_line,end=\"\")\n",
    "    print(sec_line,end=\"\")"
   ]
  },
  {
   "cell_type": "code",
   "execution_count": 16,
   "metadata": {},
   "outputs": [
    {
     "name": "stdout",
     "output_type": "stream",
     "text": [
      "The Gupta Empire was an ancient Indian empire existing from the mid-to-late 3rd century CE to 543 CE. At its zenith, from approximately 319 to \n",
      "\n",
      "467 CE, it covered much of the Indian subcontinent.[4] This period is considered as the Golden Age of India by some historians.[5][note 1] The\n",
      "\n",
      "ruling dynasty of the empire was founded by the king Sri Gupta; the most notable rulers of the dynasty were Chandragupta I, Samudragupta, and\n",
      "\n",
      "Chandragupta II alias Vikramaditya. The 5th-century CE Sanskrit poet Kalidasa credits the Guptas with having conquered about twenty-one\n",
      "\n",
      "kingdoms, both in and outside India, including the kingdoms of Parasikas, the Hunas, the Kambojas, tribes located in the west and east Oxus\n",
      "\n",
      "valleys, the Kinnaras, Kiratas, and others.[7][non-primary source needed]\n",
      "\n",
      "\n",
      "\n",
      "The high points of this period are the great cultural developments which took place primarily during the reigns of Samudragupta, Chandragupta \n",
      "\n",
      "II and Kumaragupta I. Many of the literary sources, such as Mahabharata and Ramayana, were canonised during this period.[8] The Gupta period\n",
      "\n",
      "produced scholars such as Kalidasa,[9] Aryabhata, Varahamihira, and Vatsyayana who made great advancements in many academic fields.[10][11]\n",
      "\n",
      "[12] Science and political administration reached new heights during the Gupta era.[11] The period gave rise to achievements in architecture,\n",
      "\n",
      "sculpture, and painting that \"set standards of form and taste [that] determined the whole subsequent course of art, not only in India but far\n",
      "\n",
      "beyond her borders\".[13] Strong trade ties also made the region an important cultural centre and established the region as a base that would \n",
      "\n",
      "influence nearby kingdoms and regions in South Asia and Southeast Asia.[14][unreliable source?] The Puranas, earlier long poems on a variety \n",
      "\n",
      "of subjects, are also thought to have been committed to written texts around this period.[13][3] Brahmins flourished in the Gupta empire but\n",
      "\n",
      "the Guptas tolerated people of other faiths as well. Vedic sacrifices reduced in the Gupta period[15]\n"
     ]
    }
   ],
   "source": [
    "with open(\"practice.txt\",\"r\") as f:\n",
    "    for line in f:\n",
    "        print(line)"
   ]
  },
  {
   "cell_type": "code",
   "execution_count": 17,
   "metadata": {},
   "outputs": [
    {
     "name": "stdout",
     "output_type": "stream",
     "text": [
      "The Gupta Empire was an ancient Indian empire existing from the mid-to-late 3rd century CE to 543 CE. At its zenith, from approximately 319 to \n",
      "467 CE, it covered much of the Indian subcontinent.[4] This period is considered as the Golden Age of India by some historians.[5][note 1] The\n",
      "ruling dynasty of the empire was founded by the king Sri Gupta; the most notable rulers of the dynasty were Chandragupta I, Samudragupta, and\n",
      "Chandragupta II alias Vikramaditya. The 5th-century CE Sanskrit poet Kalidasa credits the Guptas with having conquered about twenty-one\n",
      "kingdoms, both in and outside India, including the kingdoms of Parasikas, the Hunas, the Kambojas, tribes located in the west and east Oxus\n",
      "valleys, the Kinnaras, Kiratas, and others.[7][non-primary source needed]\n",
      "\n",
      "The high points of this period are the great cultural developments which took place primarily during the reigns of Samudragupta, Chandragupta \n",
      "II and Kumaragupta I. Many of the literary sources, such as Mahabharata and Ramayana, were canonised during this period.[8] The Gupta period\n",
      "produced scholars such as Kalidasa,[9] Aryabhata, Varahamihira, and Vatsyayana who made great advancements in many academic fields.[10][11]\n",
      "[12] Science and political administration reached new heights during the Gupta era.[11] The period gave rise to achievements in architecture,\n",
      "sculpture, and painting that \"set standards of form and taste [that] determined the whole subsequent course of art, not only in India but far\n",
      "beyond her borders\".[13] Strong trade ties also made the region an important cultural centre and established the region as a base that would \n",
      "influence nearby kingdoms and regions in South Asia and Southeast Asia.[14][unreliable source?] The Puranas, earlier long poems on a variety \n",
      "of subjects, are also thought to have been committed to written texts around this period.[13][3] Brahmins flourished in the Gupta empire but\n",
      "the Guptas tolerated people of other faiths as well. Vedic sacrifices reduced in the Gupta period[15]"
     ]
    }
   ],
   "source": [
    "with open(\"practice.txt\",\"r\") as f:\n",
    "    for line in f:\n",
    "        print(line,end=\"\")"
   ]
  },
  {
   "cell_type": "code",
   "execution_count": 18,
   "metadata": {},
   "outputs": [
    {
     "name": "stdout",
     "output_type": "stream",
     "text": [
      "The Gupta Empire was an ancient Indian empire existing from the mid-to-late 3rd century CE to 543 CE. At its zenith, from approximately 319 to \n",
      "467 CE, it covered much of the Indian subcontinent.[4] This period is considered as the Golden Age of India by some historians.[5][note 1] The\n",
      "ruling dynasty of the empire was founded by the king Sri Gupta; the most notable rulers of the dynasty were Chandragupta I, Samudragupta, and\n",
      "Chandragupta II alias Vikramaditya. The 5th-century CE Sanskrit poet Kalidasa credits the Guptas with having conquered about twenty-one\n",
      "kingdoms, both in and outside India, including the kingdoms of Parasikas, the Hunas, the Kambojas, tribes located in the west and east Oxus\n",
      "valleys, the Kinnaras, Kiratas, and others.[7][non-primary source needed]\n",
      "\n",
      "The high points of this period are the great cultural developments which took place primarily during the reigns of Samudragupta, Chandragupta \n",
      "II and Kumaragupta I. Many of the literary sources, such as Mahabharata and Ramayana, were canonised during this period.[8] The Gupta period\n",
      "produced scholars such as Kalidasa,[9] Aryabhata, Varahamihira, and Vatsyayana who made great advancements in many academic fields.[10][11]\n",
      "[12] Science and political administration reached new heights during the Gupta era.[11] The period gave rise to achievements in architecture,\n",
      "sculpture, and painting that \"set standards of form and taste [that] determined the whole subsequent course of art, not only in India but far\n",
      "beyond her borders\".[13] Strong trade ties also made the region an important cultural centre and established the region as a base that would \n",
      "influence nearby kingdoms and regions in South Asia and Southeast Asia.[14][unreliable source?] The Puranas, earlier long poems on a variety \n",
      "of subjects, are also thought to have been committed to written texts around this period.[13][3] Brahmins flourished in the Gupta empire but\n",
      "the Guptas tolerated people of other faiths as well. Vedic sacrifices reduced in the Gupta period[15]\n"
     ]
    }
   ],
   "source": [
    "with open(\"practice.txt\",\"r\") as f:\n",
    "    c=f.read()\n",
    "    print(c)\n",
    "   "
   ]
  },
  {
   "cell_type": "code",
   "execution_count": 19,
   "metadata": {},
   "outputs": [
    {
     "name": "stdout",
     "output_type": "stream",
     "text": [
      "The Gupta Empire was an ancient Indian empire existing from the mid-to-late 3rd century CE to 543 CE. At its zenith, from approximately 319 to \n",
      "467 CE, it covered much of the Indian subcontinent.[4] This period is considered as the Golden Age of India by some historians.[5][note 1] The\n",
      "ruling dynasty of the empire was founded by the king Sri Gupta; the most notable rulers of the dynasty were Chandragupta I, Samudragupta, and\n",
      "Chandragupta II alias Vikramaditya. The 5th-century CE Sanskrit poet Kalidasa credits the Guptas with having conquered about twenty-one\n",
      "kingdoms, both in and outside India, including the kingdoms of Parasikas, the Hunas, the Kambojas, tribes located in the west and east Oxus\n",
      "valleys, the Kinnaras, Kiratas, and others.[7][non-primary source needed]\n",
      "\n",
      "The high points of this period are the great cultural developments which took place primarily during the reigns of Samudragupta, Chandragupta \n",
      "II and Kumaragupta I. Many of the literary sources, such as Mahabharata and Ramayana, were canonised during this period.[8] The Gupta period\n",
      "produced scholars such as Kalidasa,[9] Aryabhata, Varahamihira, and Vatsyayana who made great advancements in many academic fields.[10][11]\n",
      "[12] Science and political administration reached new heights during the Gupta era.[11] The period gave rise to achievements in architecture,\n",
      "sculpture, and painting that \"set standards of form and taste [that] determined the whole subsequent course of art, not only in India but far\n",
      "beyond her borders\".[13] Strong trade ties also made the region an important cultural centre and established the region as a base that would \n",
      "influence nearby kingdoms and regions in South Asia and Southeast Asia.[14][unreliable source?] The Puranas, earlier long poems on a variety \n",
      "of subjects, are also thought to have been committed to written texts around this period.[13][3] Brahmins flourished in the Gupta empire but\n",
      "the Guptas tolerated people of other faiths as well. Vedic sacrifices reduced in the Gupta period[15]"
     ]
    }
   ],
   "source": [
    "with open(\"practice.txt\",\"r\") as f:\n",
    "    c=f.read()\n",
    "    print(c,end=\"\")\n",
    "   "
   ]
  },
  {
   "cell_type": "code",
   "execution_count": 20,
   "metadata": {},
   "outputs": [
    {
     "name": "stdout",
     "output_type": "stream",
     "text": [
      "The Gupta Empire was an ancient Indian empire existing from the mid-to-late 3rd century CE to 543 CE\n"
     ]
    }
   ],
   "source": [
    "with open(\"practice.txt\",\"r\") as f:\n",
    "    c=f.read(100)\n",
    "    print(c)\n",
    "   "
   ]
  },
  {
   "cell_type": "code",
   "execution_count": 21,
   "metadata": {},
   "outputs": [
    {
     "name": "stdout",
     "output_type": "stream",
     "text": [
      "The Gupta Empire was an ancient Indian empire existing from the mid-to-late 3rd century CE to 543 CE\n",
      ". At its zenith, from approximately 319 to \n",
      "467 CE, it covered much of the Indian subcontinent.[4] T\n"
     ]
    }
   ],
   "source": [
    "with open(\"practice.txt\",\"r\") as f:\n",
    "    c=f.read(100)\n",
    "    print(c)\n",
    "    c=f.read(100)\n",
    "    print(c)\n",
    "   "
   ]
  },
  {
   "cell_type": "code",
   "execution_count": 22,
   "metadata": {},
   "outputs": [
    {
     "name": "stdout",
     "output_type": "stream",
     "text": [
      "The Gupta Empire was an ancient Indian empire existing from the mid-to-late 3rd century CE to 543 CE. At its zenith, from approximately 319 to \n",
      "467 CE, it covered much of the Indian subcontinent.[4] T"
     ]
    }
   ],
   "source": [
    "with open(\"practice.txt\",\"r\") as f:\n",
    "    c=f.read(100)\n",
    "    print(c,end=\"\")\n",
    "    c=f.read(100)\n",
    "    print(c,end=\"\")\n",
    "   "
   ]
  },
  {
   "cell_type": "code",
   "execution_count": 23,
   "metadata": {},
   "outputs": [
    {
     "name": "stdout",
     "output_type": "stream",
     "text": [
      "The Gupta Empire was an ancient Indian empire existing from the mid-to-late 3rd century CE to 543 CE\n",
      ". At its zenith, from approximately 319 to \n",
      "467 CE, it covered much of the Indian subcontinent.[4] T\n",
      "his period is considered as the Golden Age of India by some historians.[5][note 1] The\n",
      "ruling dynast\n",
      "y of the empire was founded by the king Sri Gupta; the most notable rulers of the dynasty were Chand\n",
      "ragupta I, Samudragupta, and\n",
      "Chandragupta II alias Vikramaditya. The 5th-century CE Sanskrit poet Ka\n",
      "lidasa credits the Guptas with having conquered about twenty-one\n",
      "kingdoms, both in and outside India\n",
      ", including the kingdoms of Parasikas, the Hunas, the Kambojas, tribes located in the west and east \n",
      "Oxus\n",
      "valleys, the Kinnaras, Kiratas, and others.[7][non-primary source needed]\n",
      "\n",
      "The high points of t\n",
      "his period are the great cultural developments which took place primarily during the reigns of Samud\n",
      "ragupta, Chandragupta \n",
      "II and Kumaragupta I. Many of the literary sources, such as Mahabharata and R\n",
      "amayana, were canonised during this period.[8] The Gupta period\n",
      "produced scholars such as Kalidasa,[\n",
      "9] Aryabhata, Varahamihira, and Vatsyayana who made great advancements in many academic fields.[10][\n",
      "11]\n",
      "[12] Science and political administration reached new heights during the Gupta era.[11] The peri\n",
      "od gave rise to achievements in architecture,\n",
      "sculpture, and painting that \"set standards of form an\n",
      "d taste [that] determined the whole subsequent course of art, not only in India but far\n",
      "beyond her b\n",
      "orders\".[13] Strong trade ties also made the region an important cultural centre and established the\n",
      " region as a base that would \n",
      "influence nearby kingdoms and regions in South Asia and Southeast Asia\n",
      ".[14][unreliable source?] The Puranas, earlier long poems on a variety \n",
      "of subjects, are also though\n",
      "t to have been committed to written texts around this period.[13][3] Brahmins flourished in the Gupt\n",
      "a empire but\n",
      "the Guptas tolerated people of other faiths as well. Vedic sacrifices reduced in the Gu\n",
      "pta period[15]\n"
     ]
    }
   ],
   "source": [
    "with open(\"practice.txt\",\"r\") as f:\n",
    "    c=f.read(100)\n",
    "    while len(c)>0:\n",
    "        print(c)\n",
    "        c=f.read(100)"
   ]
  },
  {
   "cell_type": "code",
   "execution_count": 24,
   "metadata": {},
   "outputs": [
    {
     "name": "stdout",
     "output_type": "stream",
     "text": [
      "The Gupta Empire was an ancient Indian empire existing from the mid-to-late 3rd century CE to 543 CE. At its zenith, from approximately 319 to \n",
      "467 CE, it covered much of the Indian subcontinent.[4] This period is considered as the Golden Age of India by some historians.[5][note 1] The\n",
      "ruling dynasty of the empire was founded by the king Sri Gupta; the most notable rulers of the dynasty were Chandragupta I, Samudragupta, and\n",
      "Chandragupta II alias Vikramaditya. The 5th-century CE Sanskrit poet Kalidasa credits the Guptas with having conquered about twenty-one\n",
      "kingdoms, both in and outside India, including the kingdoms of Parasikas, the Hunas, the Kambojas, tribes located in the west and east Oxus\n",
      "valleys, the Kinnaras, Kiratas, and others.[7][non-primary source needed]\n",
      "\n",
      "The high points of this period are the great cultural developments which took place primarily during the reigns of Samudragupta, Chandragupta \n",
      "II and Kumaragupta I. Many of the literary sources, such as Mahabharata and Ramayana, were canonised during this period.[8] The Gupta period\n",
      "produced scholars such as Kalidasa,[9] Aryabhata, Varahamihira, and Vatsyayana who made great advancements in many academic fields.[10][11]\n",
      "[12] Science and political administration reached new heights during the Gupta era.[11] The period gave rise to achievements in architecture,\n",
      "sculpture, and painting that \"set standards of form and taste [that] determined the whole subsequent course of art, not only in India but far\n",
      "beyond her borders\".[13] Strong trade ties also made the region an important cultural centre and established the region as a base that would \n",
      "influence nearby kingdoms and regions in South Asia and Southeast Asia.[14][unreliable source?] The Puranas, earlier long poems on a variety \n",
      "of subjects, are also thought to have been committed to written texts around this period.[13][3] Brahmins flourished in the Gupta empire but\n",
      "the Guptas tolerated people of other faiths as well. Vedic sacrifices reduced in the Gupta period[15]"
     ]
    }
   ],
   "source": [
    "with open(\"practice.txt\",\"r\") as f:\n",
    "    c=f.read(100)\n",
    "    while len(c)>0:\n",
    "        print(c,end=\"\")\n",
    "        c=f.read(100)"
   ]
  },
  {
   "cell_type": "code",
   "execution_count": 25,
   "metadata": {},
   "outputs": [
    {
     "name": "stdout",
     "output_type": "stream",
     "text": [
      "The Gupta Empire was an ancient Indian empire existing from the mid-to-late 3rd century CE to 543 CE*. At its zenith, from approximately 319 to \n",
      "467 CE, it covered much of the Indian subcontinent.[4] T*his period is considered as the Golden Age of India by some historians.[5][note 1] The\n",
      "ruling dynast*y of the empire was founded by the king Sri Gupta; the most notable rulers of the dynasty were Chand*ragupta I, Samudragupta, and\n",
      "Chandragupta II alias Vikramaditya. The 5th-century CE Sanskrit poet Ka*lidasa credits the Guptas with having conquered about twenty-one\n",
      "kingdoms, both in and outside India*, including the kingdoms of Parasikas, the Hunas, the Kambojas, tribes located in the west and east *Oxus\n",
      "valleys, the Kinnaras, Kiratas, and others.[7][non-primary source needed]\n",
      "\n",
      "The high points of t*his period are the great cultural developments which took place primarily during the reigns of Samud*ragupta, Chandragupta \n",
      "II and Kumaragupta I. Many of the literary sources, such as Mahabharata and R*amayana, were canonised during this period.[8] The Gupta period\n",
      "produced scholars such as Kalidasa,[*9] Aryabhata, Varahamihira, and Vatsyayana who made great advancements in many academic fields.[10][*11]\n",
      "[12] Science and political administration reached new heights during the Gupta era.[11] The peri*od gave rise to achievements in architecture,\n",
      "sculpture, and painting that \"set standards of form an*d taste [that] determined the whole subsequent course of art, not only in India but far\n",
      "beyond her b*orders\".[13] Strong trade ties also made the region an important cultural centre and established the* region as a base that would \n",
      "influence nearby kingdoms and regions in South Asia and Southeast Asia*.[14][unreliable source?] The Puranas, earlier long poems on a variety \n",
      "of subjects, are also though*t to have been committed to written texts around this period.[13][3] Brahmins flourished in the Gupt*a empire but\n",
      "the Guptas tolerated people of other faiths as well. Vedic sacrifices reduced in the Gu*pta period[15]*"
     ]
    }
   ],
   "source": [
    "with open(\"practice.txt\",\"r\") as f:\n",
    "    c=f.read(100)\n",
    "    while len(c)>0:\n",
    "        print(c,end=\"*\")\n",
    "        c=f.read(100)"
   ]
  },
  {
   "cell_type": "code",
   "execution_count": 26,
   "metadata": {},
   "outputs": [
    {
     "name": "stdout",
     "output_type": "stream",
     "text": [
      "The Gupta Empire was an ancient Indian empire existing from the mid-to-late 3rd century CE to 543 CE*\n",
      ". At its zenith, from approximately 319 to \n",
      "467 CE, it covered much of the Indian subcontinent.[4] T*\n",
      "his period is considered as the Golden Age of India by some historians.[5][note 1] The\n",
      "ruling dynast*\n",
      "y of the empire was founded by the king Sri Gupta; the most notable rulers of the dynasty were Chand*\n",
      "ragupta I, Samudragupta, and\n",
      "Chandragupta II alias Vikramaditya. The 5th-century CE Sanskrit poet Ka*\n",
      "lidasa credits the Guptas with having conquered about twenty-one\n",
      "kingdoms, both in and outside India*\n",
      ", including the kingdoms of Parasikas, the Hunas, the Kambojas, tribes located in the west and east *\n",
      "Oxus\n",
      "valleys, the Kinnaras, Kiratas, and others.[7][non-primary source needed]\n",
      "\n",
      "The high points of t*\n",
      "his period are the great cultural developments which took place primarily during the reigns of Samud*\n",
      "ragupta, Chandragupta \n",
      "II and Kumaragupta I. Many of the literary sources, such as Mahabharata and R*\n",
      "amayana, were canonised during this period.[8] The Gupta period\n",
      "produced scholars such as Kalidasa,[*\n",
      "9] Aryabhata, Varahamihira, and Vatsyayana who made great advancements in many academic fields.[10][*\n",
      "11]\n",
      "[12] Science and political administration reached new heights during the Gupta era.[11] The peri*\n",
      "od gave rise to achievements in architecture,\n",
      "sculpture, and painting that \"set standards of form an*\n",
      "d taste [that] determined the whole subsequent course of art, not only in India but far\n",
      "beyond her b*\n",
      "orders\".[13] Strong trade ties also made the region an important cultural centre and established the*\n",
      " region as a base that would \n",
      "influence nearby kingdoms and regions in South Asia and Southeast Asia*\n",
      ".[14][unreliable source?] The Puranas, earlier long poems on a variety \n",
      "of subjects, are also though*\n",
      "t to have been committed to written texts around this period.[13][3] Brahmins flourished in the Gupt*\n",
      "a empire but\n",
      "the Guptas tolerated people of other faiths as well. Vedic sacrifices reduced in the Gu*\n",
      "pta period[15]*\n"
     ]
    }
   ],
   "source": [
    "with open(\"practice.txt\",\"r\") as f:\n",
    "    c=f.read(100)\n",
    "    while len(c)>0:\n",
    "        print(c,end=\"*\\n\")\n",
    "        c=f.read(100)"
   ]
  },
  {
   "cell_type": "code",
   "execution_count": 27,
   "metadata": {},
   "outputs": [],
   "source": [
    "with open(\"practice2.txt\",mode=\"w\") as f:\n",
    "    f.write(\"first line\\n second line\\n third line\\n\")\n",
    "    f.write(\"fourth linw\\n fifth line\")\n",
    "    "
   ]
  },
  {
   "cell_type": "code",
   "execution_count": 28,
   "metadata": {},
   "outputs": [
    {
     "name": "stdout",
     "output_type": "stream",
     "text": [
      "first line\n",
      " second line\n",
      " third line\n",
      "fourth linw\n",
      " fifth line\n"
     ]
    }
   ],
   "source": [
    "with open(\"practice2.txt\",mode=\"r\") as f:\n",
    "    c=f.read()\n",
    "    print(c)\n"
   ]
  },
  {
   "cell_type": "code",
   "execution_count": 29,
   "metadata": {},
   "outputs": [],
   "source": [
    "with open(\"practice3.txt\",mode=\"w\") as f:\n",
    "    f.write(\"Test\")\n",
    "    f.seek(0)\n",
    "    f.write(\"R\")\n",
    "    "
   ]
  },
  {
   "cell_type": "code",
   "execution_count": 30,
   "metadata": {},
   "outputs": [
    {
     "name": "stdout",
     "output_type": "stream",
     "text": [
      "Rest\n"
     ]
    }
   ],
   "source": [
    "with open(\"practice3.txt\",mode=\"r\") as f:\n",
    "    c=f.read()\n",
    "    print(c)\n"
   ]
  },
  {
   "cell_type": "code",
   "execution_count": 31,
   "metadata": {},
   "outputs": [
    {
     "name": "stdout",
     "output_type": "stream",
     "text": [
      "100\n"
     ]
    }
   ],
   "source": [
    "with open(\"practice.txt\",mode=\"r\") as f:\n",
    "    size_to_read=100\n",
    "    c=f.read(size_to_read)\n",
    "    print(f.tell())"
   ]
  },
  {
   "cell_type": "code",
   "execution_count": 32,
   "metadata": {},
   "outputs": [],
   "source": [
    "with open(\"practice2.txt\",mode=\"a\") as f:\n",
    "    f.write(\"\\nsixth line\\nseventh line \\n\")\n",
    "    f.write(\"eight line\")"
   ]
  },
  {
   "cell_type": "code",
   "execution_count": 33,
   "metadata": {},
   "outputs": [
    {
     "name": "stdout",
     "output_type": "stream",
     "text": [
      "first line\n",
      " second line\n",
      " third line\n",
      "fourth linw\n",
      " fifth line\n",
      "sixth line\n",
      "seventh line \n",
      "eight line\n"
     ]
    }
   ],
   "source": [
    "with open(\"practice2.txt\",mode=\"r\") as f:\n",
    "    c=f.read()\n",
    "    print(c)"
   ]
  },
  {
   "cell_type": "code",
   "execution_count": 34,
   "metadata": {},
   "outputs": [],
   "source": [
    "with open(\"practice2.txt\",mode=\"w\") as f:\n",
    "    f.write(\"a\")\n",
    "    "
   ]
  },
  {
   "cell_type": "code",
   "execution_count": 35,
   "metadata": {},
   "outputs": [
    {
     "name": "stdout",
     "output_type": "stream",
     "text": [
      "a\n"
     ]
    }
   ],
   "source": [
    "with open(\"practice2.txt\",mode=\"r\") as f:\n",
    "    c=f.read()\n",
    "    print(c)"
   ]
  },
  {
   "cell_type": "code",
   "execution_count": 36,
   "metadata": {},
   "outputs": [],
   "source": [
    "with open(\"practice.txt\",mode=\"r\") as fr:\n",
    "    with open(\"practice4.txt\",mode=\"w\") as fw:\n",
    "        for line in fr:\n",
    "            fw.write(line)\n",
    "    \n",
    "    \n",
    "   \n",
    "    "
   ]
  },
  {
   "cell_type": "code",
   "execution_count": 37,
   "metadata": {},
   "outputs": [
    {
     "name": "stdout",
     "output_type": "stream",
     "text": [
      "The Gupta Empire was an ancient Indian empire existing from the mid-to-late 3rd century CE to 543 CE. At its zenith, from approximately 319 to \n",
      "467 CE, it covered much of the Indian subcontinent.[4] This period is considered as the Golden Age of India by some historians.[5][note 1] The\n",
      "ruling dynasty of the empire was founded by the king Sri Gupta; the most notable rulers of the dynasty were Chandragupta I, Samudragupta, and\n",
      "Chandragupta II alias Vikramaditya. The 5th-century CE Sanskrit poet Kalidasa credits the Guptas with having conquered about twenty-one\n",
      "kingdoms, both in and outside India, including the kingdoms of Parasikas, the Hunas, the Kambojas, tribes located in the west and east Oxus\n",
      "valleys, the Kinnaras, Kiratas, and others.[7][non-primary source needed]\n",
      "\n",
      "The high points of this period are the great cultural developments which took place primarily during the reigns of Samudragupta, Chandragupta \n",
      "II and Kumaragupta I. Many of the literary sources, such as Mahabharata and Ramayana, were canonised during this period.[8] The Gupta period\n",
      "produced scholars such as Kalidasa,[9] Aryabhata, Varahamihira, and Vatsyayana who made great advancements in many academic fields.[10][11]\n",
      "[12] Science and political administration reached new heights during the Gupta era.[11] The period gave rise to achievements in architecture,\n",
      "sculpture, and painting that \"set standards of form and taste [that] determined the whole subsequent course of art, not only in India but far\n",
      "beyond her borders\".[13] Strong trade ties also made the region an important cultural centre and established the region as a base that would \n",
      "influence nearby kingdoms and regions in South Asia and Southeast Asia.[14][unreliable source?] The Puranas, earlier long poems on a variety \n",
      "of subjects, are also thought to have been committed to written texts around this period.[13][3] Brahmins flourished in the Gupta empire but\n",
      "the Guptas tolerated people of other faiths as well. Vedic sacrifices reduced in the Gupta period[15]\n"
     ]
    }
   ],
   "source": [
    "with open(\"practice4.txt\",mode=\"r\") as f:\n",
    "    c=f.read()\n",
    "    print(c)"
   ]
  },
  {
   "cell_type": "code",
   "execution_count": 38,
   "metadata": {},
   "outputs": [],
   "source": [
    "with open(\"practice.txt\",mode=\"r\") as fr,  open(\"practice5.txt\",mode=\"w\") as fw:\n",
    "    for line in fr:\n",
    "        fw.write(line)"
   ]
  },
  {
   "cell_type": "code",
   "execution_count": 39,
   "metadata": {},
   "outputs": [
    {
     "name": "stdout",
     "output_type": "stream",
     "text": [
      "The Gupta Empire was an ancient Indian empire existing from the mid-to-late 3rd century CE to 543 CE. At its zenith, from approximately 319 to \n",
      "467 CE, it covered much of the Indian subcontinent.[4] This period is considered as the Golden Age of India by some historians.[5][note 1] The\n",
      "ruling dynasty of the empire was founded by the king Sri Gupta; the most notable rulers of the dynasty were Chandragupta I, Samudragupta, and\n",
      "Chandragupta II alias Vikramaditya. The 5th-century CE Sanskrit poet Kalidasa credits the Guptas with having conquered about twenty-one\n",
      "kingdoms, both in and outside India, including the kingdoms of Parasikas, the Hunas, the Kambojas, tribes located in the west and east Oxus\n",
      "valleys, the Kinnaras, Kiratas, and others.[7][non-primary source needed]\n",
      "\n",
      "The high points of this period are the great cultural developments which took place primarily during the reigns of Samudragupta, Chandragupta \n",
      "II and Kumaragupta I. Many of the literary sources, such as Mahabharata and Ramayana, were canonised during this period.[8] The Gupta period\n",
      "produced scholars such as Kalidasa,[9] Aryabhata, Varahamihira, and Vatsyayana who made great advancements in many academic fields.[10][11]\n",
      "[12] Science and political administration reached new heights during the Gupta era.[11] The period gave rise to achievements in architecture,\n",
      "sculpture, and painting that \"set standards of form and taste [that] determined the whole subsequent course of art, not only in India but far\n",
      "beyond her borders\".[13] Strong trade ties also made the region an important cultural centre and established the region as a base that would \n",
      "influence nearby kingdoms and regions in South Asia and Southeast Asia.[14][unreliable source?] The Puranas, earlier long poems on a variety \n",
      "of subjects, are also thought to have been committed to written texts around this period.[13][3] Brahmins flourished in the Gupta empire but\n",
      "the Guptas tolerated people of other faiths as well. Vedic sacrifices reduced in the Gupta period[15]\n"
     ]
    }
   ],
   "source": [
    "with open(\"practice5.txt\",mode=\"r\") as f:\n",
    "    c=f.read()\n",
    "    print(c)"
   ]
  },
  {
   "cell_type": "code",
   "execution_count": null,
   "metadata": {},
   "outputs": [],
   "source": []
  }
 ],
 "metadata": {
  "kernelspec": {
   "display_name": "Python 3",
   "language": "python",
   "name": "python3"
  },
  "language_info": {
   "codemirror_mode": {
    "name": "ipython",
    "version": 3
   },
   "file_extension": ".py",
   "mimetype": "text/x-python",
   "name": "python",
   "nbconvert_exporter": "python",
   "pygments_lexer": "ipython3",
   "version": "3.8.5"
  }
 },
 "nbformat": 4,
 "nbformat_minor": 4
}
